{
 "cells": [
  {
   "cell_type": "markdown",
   "id": "ab73d316",
   "metadata": {},
   "source": [
    "# K-nearest neighbors (KNN)\n",
    "\n",
    "K-nearest neighbors (KNN) algorithm is a type of supervised ML algorithm which can be used for both classification as well as regression predictive problems.\n",
    "However, it is mainly used for classification predictive problems in industry. \n",
    "K-nearest neighbors (KNN) algorithm uses ‘feature similarity’ to predict the values of new datapoints which further means that the new data point will be assigned a value based on how closely it matches the points in the training set.\n",
    "\n",
    "Pros:\n",
    "It is very useful for nonlinear data because there is no assumption about data in this algorithm.\n",
    "\n",
    "cons:\n",
    "It is computationally a bit expensive algorithm because it stores all the training data.\n",
    "Prediction is slow in case of big N."
   ]
  },
  {
   "cell_type": "code",
   "execution_count": 141,
   "id": "a18f6ab0",
   "metadata": {},
   "outputs": [],
   "source": [
    "import pandas as pd\n",
    "import numpy as np\n",
    "import matplotlib.pyplot as plt"
   ]
  },
  {
   "cell_type": "code",
   "execution_count": 142,
   "id": "ebec23dc",
   "metadata": {},
   "outputs": [],
   "source": [
    "zoo = pd.read_csv('zoo.csv')"
   ]
  },
  {
   "cell_type": "code",
   "execution_count": 143,
   "id": "05e9cc57",
   "metadata": {},
   "outputs": [
    {
     "data": {
      "text/html": [
       "<div>\n",
       "<style scoped>\n",
       "    .dataframe tbody tr th:only-of-type {\n",
       "        vertical-align: middle;\n",
       "    }\n",
       "\n",
       "    .dataframe tbody tr th {\n",
       "        vertical-align: top;\n",
       "    }\n",
       "\n",
       "    .dataframe thead th {\n",
       "        text-align: right;\n",
       "    }\n",
       "</style>\n",
       "<table border=\"1\" class=\"dataframe\">\n",
       "  <thead>\n",
       "    <tr style=\"text-align: right;\">\n",
       "      <th></th>\n",
       "      <th>animal name</th>\n",
       "      <th>hair</th>\n",
       "      <th>feathers</th>\n",
       "      <th>eggs</th>\n",
       "      <th>milk</th>\n",
       "      <th>airborne</th>\n",
       "      <th>aquatic</th>\n",
       "      <th>predator</th>\n",
       "      <th>toothed</th>\n",
       "      <th>backbone</th>\n",
       "      <th>breathes</th>\n",
       "      <th>venomous</th>\n",
       "      <th>fins</th>\n",
       "      <th>legs</th>\n",
       "      <th>tail</th>\n",
       "      <th>domestic</th>\n",
       "      <th>catsize</th>\n",
       "      <th>type</th>\n",
       "    </tr>\n",
       "  </thead>\n",
       "  <tbody>\n",
       "    <tr>\n",
       "      <th>0</th>\n",
       "      <td>aardvark</td>\n",
       "      <td>1</td>\n",
       "      <td>0</td>\n",
       "      <td>0</td>\n",
       "      <td>1</td>\n",
       "      <td>0</td>\n",
       "      <td>0</td>\n",
       "      <td>1</td>\n",
       "      <td>1</td>\n",
       "      <td>1</td>\n",
       "      <td>1</td>\n",
       "      <td>0</td>\n",
       "      <td>0</td>\n",
       "      <td>4</td>\n",
       "      <td>0</td>\n",
       "      <td>0</td>\n",
       "      <td>1</td>\n",
       "      <td>1</td>\n",
       "    </tr>\n",
       "    <tr>\n",
       "      <th>1</th>\n",
       "      <td>antelope</td>\n",
       "      <td>1</td>\n",
       "      <td>0</td>\n",
       "      <td>0</td>\n",
       "      <td>1</td>\n",
       "      <td>0</td>\n",
       "      <td>0</td>\n",
       "      <td>0</td>\n",
       "      <td>1</td>\n",
       "      <td>1</td>\n",
       "      <td>1</td>\n",
       "      <td>0</td>\n",
       "      <td>0</td>\n",
       "      <td>4</td>\n",
       "      <td>1</td>\n",
       "      <td>0</td>\n",
       "      <td>1</td>\n",
       "      <td>1</td>\n",
       "    </tr>\n",
       "    <tr>\n",
       "      <th>2</th>\n",
       "      <td>bass</td>\n",
       "      <td>0</td>\n",
       "      <td>0</td>\n",
       "      <td>1</td>\n",
       "      <td>0</td>\n",
       "      <td>0</td>\n",
       "      <td>1</td>\n",
       "      <td>1</td>\n",
       "      <td>1</td>\n",
       "      <td>1</td>\n",
       "      <td>0</td>\n",
       "      <td>0</td>\n",
       "      <td>1</td>\n",
       "      <td>0</td>\n",
       "      <td>1</td>\n",
       "      <td>0</td>\n",
       "      <td>0</td>\n",
       "      <td>4</td>\n",
       "    </tr>\n",
       "    <tr>\n",
       "      <th>3</th>\n",
       "      <td>bear</td>\n",
       "      <td>1</td>\n",
       "      <td>0</td>\n",
       "      <td>0</td>\n",
       "      <td>1</td>\n",
       "      <td>0</td>\n",
       "      <td>0</td>\n",
       "      <td>1</td>\n",
       "      <td>1</td>\n",
       "      <td>1</td>\n",
       "      <td>1</td>\n",
       "      <td>0</td>\n",
       "      <td>0</td>\n",
       "      <td>4</td>\n",
       "      <td>0</td>\n",
       "      <td>0</td>\n",
       "      <td>1</td>\n",
       "      <td>1</td>\n",
       "    </tr>\n",
       "    <tr>\n",
       "      <th>4</th>\n",
       "      <td>boar</td>\n",
       "      <td>1</td>\n",
       "      <td>0</td>\n",
       "      <td>0</td>\n",
       "      <td>1</td>\n",
       "      <td>0</td>\n",
       "      <td>0</td>\n",
       "      <td>1</td>\n",
       "      <td>1</td>\n",
       "      <td>1</td>\n",
       "      <td>1</td>\n",
       "      <td>0</td>\n",
       "      <td>0</td>\n",
       "      <td>4</td>\n",
       "      <td>1</td>\n",
       "      <td>0</td>\n",
       "      <td>1</td>\n",
       "      <td>1</td>\n",
       "    </tr>\n",
       "    <tr>\n",
       "      <th>...</th>\n",
       "      <td>...</td>\n",
       "      <td>...</td>\n",
       "      <td>...</td>\n",
       "      <td>...</td>\n",
       "      <td>...</td>\n",
       "      <td>...</td>\n",
       "      <td>...</td>\n",
       "      <td>...</td>\n",
       "      <td>...</td>\n",
       "      <td>...</td>\n",
       "      <td>...</td>\n",
       "      <td>...</td>\n",
       "      <td>...</td>\n",
       "      <td>...</td>\n",
       "      <td>...</td>\n",
       "      <td>...</td>\n",
       "      <td>...</td>\n",
       "      <td>...</td>\n",
       "    </tr>\n",
       "    <tr>\n",
       "      <th>96</th>\n",
       "      <td>wallaby</td>\n",
       "      <td>1</td>\n",
       "      <td>0</td>\n",
       "      <td>0</td>\n",
       "      <td>1</td>\n",
       "      <td>0</td>\n",
       "      <td>0</td>\n",
       "      <td>0</td>\n",
       "      <td>1</td>\n",
       "      <td>1</td>\n",
       "      <td>1</td>\n",
       "      <td>0</td>\n",
       "      <td>0</td>\n",
       "      <td>2</td>\n",
       "      <td>1</td>\n",
       "      <td>0</td>\n",
       "      <td>1</td>\n",
       "      <td>1</td>\n",
       "    </tr>\n",
       "    <tr>\n",
       "      <th>97</th>\n",
       "      <td>wasp</td>\n",
       "      <td>1</td>\n",
       "      <td>0</td>\n",
       "      <td>1</td>\n",
       "      <td>0</td>\n",
       "      <td>1</td>\n",
       "      <td>0</td>\n",
       "      <td>0</td>\n",
       "      <td>0</td>\n",
       "      <td>0</td>\n",
       "      <td>1</td>\n",
       "      <td>1</td>\n",
       "      <td>0</td>\n",
       "      <td>6</td>\n",
       "      <td>0</td>\n",
       "      <td>0</td>\n",
       "      <td>0</td>\n",
       "      <td>6</td>\n",
       "    </tr>\n",
       "    <tr>\n",
       "      <th>98</th>\n",
       "      <td>wolf</td>\n",
       "      <td>1</td>\n",
       "      <td>0</td>\n",
       "      <td>0</td>\n",
       "      <td>1</td>\n",
       "      <td>0</td>\n",
       "      <td>0</td>\n",
       "      <td>1</td>\n",
       "      <td>1</td>\n",
       "      <td>1</td>\n",
       "      <td>1</td>\n",
       "      <td>0</td>\n",
       "      <td>0</td>\n",
       "      <td>4</td>\n",
       "      <td>1</td>\n",
       "      <td>0</td>\n",
       "      <td>1</td>\n",
       "      <td>1</td>\n",
       "    </tr>\n",
       "    <tr>\n",
       "      <th>99</th>\n",
       "      <td>worm</td>\n",
       "      <td>0</td>\n",
       "      <td>0</td>\n",
       "      <td>1</td>\n",
       "      <td>0</td>\n",
       "      <td>0</td>\n",
       "      <td>0</td>\n",
       "      <td>0</td>\n",
       "      <td>0</td>\n",
       "      <td>0</td>\n",
       "      <td>1</td>\n",
       "      <td>0</td>\n",
       "      <td>0</td>\n",
       "      <td>0</td>\n",
       "      <td>0</td>\n",
       "      <td>0</td>\n",
       "      <td>0</td>\n",
       "      <td>7</td>\n",
       "    </tr>\n",
       "    <tr>\n",
       "      <th>100</th>\n",
       "      <td>wren</td>\n",
       "      <td>0</td>\n",
       "      <td>1</td>\n",
       "      <td>1</td>\n",
       "      <td>0</td>\n",
       "      <td>1</td>\n",
       "      <td>0</td>\n",
       "      <td>0</td>\n",
       "      <td>0</td>\n",
       "      <td>1</td>\n",
       "      <td>1</td>\n",
       "      <td>0</td>\n",
       "      <td>0</td>\n",
       "      <td>2</td>\n",
       "      <td>1</td>\n",
       "      <td>0</td>\n",
       "      <td>0</td>\n",
       "      <td>2</td>\n",
       "    </tr>\n",
       "  </tbody>\n",
       "</table>\n",
       "<p>101 rows × 18 columns</p>\n",
       "</div>"
      ],
      "text/plain": [
       "    animal name  hair  feathers  eggs  milk  airborne  aquatic  predator  \\\n",
       "0      aardvark     1         0     0     1         0        0         1   \n",
       "1      antelope     1         0     0     1         0        0         0   \n",
       "2          bass     0         0     1     0         0        1         1   \n",
       "3          bear     1         0     0     1         0        0         1   \n",
       "4          boar     1         0     0     1         0        0         1   \n",
       "..          ...   ...       ...   ...   ...       ...      ...       ...   \n",
       "96      wallaby     1         0     0     1         0        0         0   \n",
       "97         wasp     1         0     1     0         1        0         0   \n",
       "98         wolf     1         0     0     1         0        0         1   \n",
       "99         worm     0         0     1     0         0        0         0   \n",
       "100        wren     0         1     1     0         1        0         0   \n",
       "\n",
       "     toothed  backbone  breathes  venomous  fins  legs  tail  domestic  \\\n",
       "0          1         1         1         0     0     4     0         0   \n",
       "1          1         1         1         0     0     4     1         0   \n",
       "2          1         1         0         0     1     0     1         0   \n",
       "3          1         1         1         0     0     4     0         0   \n",
       "4          1         1         1         0     0     4     1         0   \n",
       "..       ...       ...       ...       ...   ...   ...   ...       ...   \n",
       "96         1         1         1         0     0     2     1         0   \n",
       "97         0         0         1         1     0     6     0         0   \n",
       "98         1         1         1         0     0     4     1         0   \n",
       "99         0         0         1         0     0     0     0         0   \n",
       "100        0         1         1         0     0     2     1         0   \n",
       "\n",
       "     catsize  type  \n",
       "0          1     1  \n",
       "1          1     1  \n",
       "2          0     4  \n",
       "3          1     1  \n",
       "4          1     1  \n",
       "..       ...   ...  \n",
       "96         1     1  \n",
       "97         0     6  \n",
       "98         1     1  \n",
       "99         0     7  \n",
       "100        0     2  \n",
       "\n",
       "[101 rows x 18 columns]"
      ]
     },
     "execution_count": 143,
     "metadata": {},
     "output_type": "execute_result"
    }
   ],
   "source": [
    "zoo"
   ]
  },
  {
   "cell_type": "code",
   "execution_count": 144,
   "id": "0c0a474f",
   "metadata": {},
   "outputs": [],
   "source": [
    "#renaming the animal coumn\n",
    "zoo.rename(columns = {\"animal name\":\"animalname\"},inplace =True)"
   ]
  },
  {
   "cell_type": "code",
   "execution_count": 145,
   "id": "c3d4a090",
   "metadata": {},
   "outputs": [
    {
     "data": {
      "text/plain": [
       "frog        2\n",
       "elephant    1\n",
       "scorpion    1\n",
       "herring     1\n",
       "dolphin     1\n",
       "           ..\n",
       "antelope    1\n",
       "penguin     1\n",
       "sole        1\n",
       "skimmer     1\n",
       "vulture     1\n",
       "Name: animalname, Length: 100, dtype: int64"
      ]
     },
     "execution_count": 145,
     "metadata": {},
     "output_type": "execute_result"
    }
   ],
   "source": [
    "#EDA\n",
    "\n",
    "ani = zoo[\"animalname\"].value_counts()\n",
    "ani"
   ]
  },
  {
   "cell_type": "code",
   "execution_count": 146,
   "id": "0aea8d17",
   "metadata": {},
   "outputs": [],
   "source": [
    "# 'animal name' is the column which is categorical in nature. So, we converted into dummy variables\n",
    "# if we look at all the columns, all the variables except legs are binary values in nature. \n",
    "# Legs column is actually a set of values which being repeated. So, we tend to factorize the variable."
   ]
  },
  {
   "cell_type": "code",
   "execution_count": 147,
   "id": "679278d0",
   "metadata": {},
   "outputs": [],
   "source": [
    "zoo[\"animalname\"],_=pd.factorize(zoo[\"animalname\"])"
   ]
  },
  {
   "cell_type": "code",
   "execution_count": 148,
   "id": "3d8493ac",
   "metadata": {},
   "outputs": [
    {
     "data": {
      "text/plain": [
       "1    41\n",
       "2    20\n",
       "4    13\n",
       "7    10\n",
       "6     8\n",
       "3     5\n",
       "5     4\n",
       "Name: type, dtype: int64"
      ]
     },
     "execution_count": 148,
     "metadata": {},
     "output_type": "execute_result"
    }
   ],
   "source": [
    "zoo[\"type\"].value_counts()"
   ]
  },
  {
   "cell_type": "code",
   "execution_count": 149,
   "id": "5426eb14",
   "metadata": {},
   "outputs": [
    {
     "data": {
      "text/html": [
       "<div>\n",
       "<style scoped>\n",
       "    .dataframe tbody tr th:only-of-type {\n",
       "        vertical-align: middle;\n",
       "    }\n",
       "\n",
       "    .dataframe tbody tr th {\n",
       "        vertical-align: top;\n",
       "    }\n",
       "\n",
       "    .dataframe thead th {\n",
       "        text-align: right;\n",
       "    }\n",
       "</style>\n",
       "<table border=\"1\" class=\"dataframe\">\n",
       "  <thead>\n",
       "    <tr style=\"text-align: right;\">\n",
       "      <th></th>\n",
       "      <th>animalname</th>\n",
       "      <th>hair</th>\n",
       "      <th>feathers</th>\n",
       "      <th>eggs</th>\n",
       "      <th>milk</th>\n",
       "      <th>airborne</th>\n",
       "      <th>aquatic</th>\n",
       "      <th>predator</th>\n",
       "      <th>toothed</th>\n",
       "      <th>backbone</th>\n",
       "      <th>breathes</th>\n",
       "      <th>venomous</th>\n",
       "      <th>fins</th>\n",
       "      <th>legs</th>\n",
       "      <th>tail</th>\n",
       "      <th>domestic</th>\n",
       "      <th>catsize</th>\n",
       "      <th>type</th>\n",
       "    </tr>\n",
       "  </thead>\n",
       "  <tbody>\n",
       "    <tr>\n",
       "      <th>count</th>\n",
       "      <td>101.000000</td>\n",
       "      <td>101.000000</td>\n",
       "      <td>101.000000</td>\n",
       "      <td>101.000000</td>\n",
       "      <td>101.000000</td>\n",
       "      <td>101.000000</td>\n",
       "      <td>101.000000</td>\n",
       "      <td>101.000000</td>\n",
       "      <td>101.000000</td>\n",
       "      <td>101.000000</td>\n",
       "      <td>101.000000</td>\n",
       "      <td>101.000000</td>\n",
       "      <td>101.000000</td>\n",
       "      <td>101.000000</td>\n",
       "      <td>101.000000</td>\n",
       "      <td>101.000000</td>\n",
       "      <td>101.000000</td>\n",
       "      <td>101.000000</td>\n",
       "    </tr>\n",
       "    <tr>\n",
       "      <th>mean</th>\n",
       "      <td>49.257426</td>\n",
       "      <td>0.425743</td>\n",
       "      <td>0.198020</td>\n",
       "      <td>0.584158</td>\n",
       "      <td>0.405941</td>\n",
       "      <td>0.237624</td>\n",
       "      <td>0.356436</td>\n",
       "      <td>0.554455</td>\n",
       "      <td>0.603960</td>\n",
       "      <td>0.821782</td>\n",
       "      <td>0.792079</td>\n",
       "      <td>0.079208</td>\n",
       "      <td>0.168317</td>\n",
       "      <td>2.841584</td>\n",
       "      <td>0.742574</td>\n",
       "      <td>0.128713</td>\n",
       "      <td>0.435644</td>\n",
       "      <td>2.831683</td>\n",
       "    </tr>\n",
       "    <tr>\n",
       "      <th>std</th>\n",
       "      <td>28.968829</td>\n",
       "      <td>0.496921</td>\n",
       "      <td>0.400495</td>\n",
       "      <td>0.495325</td>\n",
       "      <td>0.493522</td>\n",
       "      <td>0.427750</td>\n",
       "      <td>0.481335</td>\n",
       "      <td>0.499505</td>\n",
       "      <td>0.491512</td>\n",
       "      <td>0.384605</td>\n",
       "      <td>0.407844</td>\n",
       "      <td>0.271410</td>\n",
       "      <td>0.376013</td>\n",
       "      <td>2.033385</td>\n",
       "      <td>0.439397</td>\n",
       "      <td>0.336552</td>\n",
       "      <td>0.498314</td>\n",
       "      <td>2.102709</td>\n",
       "    </tr>\n",
       "    <tr>\n",
       "      <th>min</th>\n",
       "      <td>0.000000</td>\n",
       "      <td>0.000000</td>\n",
       "      <td>0.000000</td>\n",
       "      <td>0.000000</td>\n",
       "      <td>0.000000</td>\n",
       "      <td>0.000000</td>\n",
       "      <td>0.000000</td>\n",
       "      <td>0.000000</td>\n",
       "      <td>0.000000</td>\n",
       "      <td>0.000000</td>\n",
       "      <td>0.000000</td>\n",
       "      <td>0.000000</td>\n",
       "      <td>0.000000</td>\n",
       "      <td>0.000000</td>\n",
       "      <td>0.000000</td>\n",
       "      <td>0.000000</td>\n",
       "      <td>0.000000</td>\n",
       "      <td>1.000000</td>\n",
       "    </tr>\n",
       "    <tr>\n",
       "      <th>25%</th>\n",
       "      <td>25.000000</td>\n",
       "      <td>0.000000</td>\n",
       "      <td>0.000000</td>\n",
       "      <td>0.000000</td>\n",
       "      <td>0.000000</td>\n",
       "      <td>0.000000</td>\n",
       "      <td>0.000000</td>\n",
       "      <td>0.000000</td>\n",
       "      <td>0.000000</td>\n",
       "      <td>1.000000</td>\n",
       "      <td>1.000000</td>\n",
       "      <td>0.000000</td>\n",
       "      <td>0.000000</td>\n",
       "      <td>2.000000</td>\n",
       "      <td>0.000000</td>\n",
       "      <td>0.000000</td>\n",
       "      <td>0.000000</td>\n",
       "      <td>1.000000</td>\n",
       "    </tr>\n",
       "    <tr>\n",
       "      <th>50%</th>\n",
       "      <td>49.000000</td>\n",
       "      <td>0.000000</td>\n",
       "      <td>0.000000</td>\n",
       "      <td>1.000000</td>\n",
       "      <td>0.000000</td>\n",
       "      <td>0.000000</td>\n",
       "      <td>0.000000</td>\n",
       "      <td>1.000000</td>\n",
       "      <td>1.000000</td>\n",
       "      <td>1.000000</td>\n",
       "      <td>1.000000</td>\n",
       "      <td>0.000000</td>\n",
       "      <td>0.000000</td>\n",
       "      <td>4.000000</td>\n",
       "      <td>1.000000</td>\n",
       "      <td>0.000000</td>\n",
       "      <td>0.000000</td>\n",
       "      <td>2.000000</td>\n",
       "    </tr>\n",
       "    <tr>\n",
       "      <th>75%</th>\n",
       "      <td>74.000000</td>\n",
       "      <td>1.000000</td>\n",
       "      <td>0.000000</td>\n",
       "      <td>1.000000</td>\n",
       "      <td>1.000000</td>\n",
       "      <td>0.000000</td>\n",
       "      <td>1.000000</td>\n",
       "      <td>1.000000</td>\n",
       "      <td>1.000000</td>\n",
       "      <td>1.000000</td>\n",
       "      <td>1.000000</td>\n",
       "      <td>0.000000</td>\n",
       "      <td>0.000000</td>\n",
       "      <td>4.000000</td>\n",
       "      <td>1.000000</td>\n",
       "      <td>0.000000</td>\n",
       "      <td>1.000000</td>\n",
       "      <td>4.000000</td>\n",
       "    </tr>\n",
       "    <tr>\n",
       "      <th>max</th>\n",
       "      <td>99.000000</td>\n",
       "      <td>1.000000</td>\n",
       "      <td>1.000000</td>\n",
       "      <td>1.000000</td>\n",
       "      <td>1.000000</td>\n",
       "      <td>1.000000</td>\n",
       "      <td>1.000000</td>\n",
       "      <td>1.000000</td>\n",
       "      <td>1.000000</td>\n",
       "      <td>1.000000</td>\n",
       "      <td>1.000000</td>\n",
       "      <td>1.000000</td>\n",
       "      <td>1.000000</td>\n",
       "      <td>8.000000</td>\n",
       "      <td>1.000000</td>\n",
       "      <td>1.000000</td>\n",
       "      <td>1.000000</td>\n",
       "      <td>7.000000</td>\n",
       "    </tr>\n",
       "  </tbody>\n",
       "</table>\n",
       "</div>"
      ],
      "text/plain": [
       "       animalname        hair    feathers        eggs        milk    airborne  \\\n",
       "count  101.000000  101.000000  101.000000  101.000000  101.000000  101.000000   \n",
       "mean    49.257426    0.425743    0.198020    0.584158    0.405941    0.237624   \n",
       "std     28.968829    0.496921    0.400495    0.495325    0.493522    0.427750   \n",
       "min      0.000000    0.000000    0.000000    0.000000    0.000000    0.000000   \n",
       "25%     25.000000    0.000000    0.000000    0.000000    0.000000    0.000000   \n",
       "50%     49.000000    0.000000    0.000000    1.000000    0.000000    0.000000   \n",
       "75%     74.000000    1.000000    0.000000    1.000000    1.000000    0.000000   \n",
       "max     99.000000    1.000000    1.000000    1.000000    1.000000    1.000000   \n",
       "\n",
       "          aquatic    predator     toothed    backbone    breathes    venomous  \\\n",
       "count  101.000000  101.000000  101.000000  101.000000  101.000000  101.000000   \n",
       "mean     0.356436    0.554455    0.603960    0.821782    0.792079    0.079208   \n",
       "std      0.481335    0.499505    0.491512    0.384605    0.407844    0.271410   \n",
       "min      0.000000    0.000000    0.000000    0.000000    0.000000    0.000000   \n",
       "25%      0.000000    0.000000    0.000000    1.000000    1.000000    0.000000   \n",
       "50%      0.000000    1.000000    1.000000    1.000000    1.000000    0.000000   \n",
       "75%      1.000000    1.000000    1.000000    1.000000    1.000000    0.000000   \n",
       "max      1.000000    1.000000    1.000000    1.000000    1.000000    1.000000   \n",
       "\n",
       "             fins        legs        tail    domestic     catsize        type  \n",
       "count  101.000000  101.000000  101.000000  101.000000  101.000000  101.000000  \n",
       "mean     0.168317    2.841584    0.742574    0.128713    0.435644    2.831683  \n",
       "std      0.376013    2.033385    0.439397    0.336552    0.498314    2.102709  \n",
       "min      0.000000    0.000000    0.000000    0.000000    0.000000    1.000000  \n",
       "25%      0.000000    2.000000    0.000000    0.000000    0.000000    1.000000  \n",
       "50%      0.000000    4.000000    1.000000    0.000000    0.000000    2.000000  \n",
       "75%      0.000000    4.000000    1.000000    0.000000    1.000000    4.000000  \n",
       "max      1.000000    8.000000    1.000000    1.000000    1.000000    7.000000  "
      ]
     },
     "execution_count": 149,
     "metadata": {},
     "output_type": "execute_result"
    }
   ],
   "source": [
    "zoo.describe()"
   ]
  },
  {
   "cell_type": "code",
   "execution_count": 150,
   "id": "5f289bb7",
   "metadata": {},
   "outputs": [
    {
     "name": "stdout",
     "output_type": "stream",
     "text": [
      "<class 'pandas.core.frame.DataFrame'>\n",
      "RangeIndex: 101 entries, 0 to 100\n",
      "Data columns (total 18 columns):\n",
      " #   Column      Non-Null Count  Dtype\n",
      "---  ------      --------------  -----\n",
      " 0   animalname  101 non-null    int64\n",
      " 1   hair        101 non-null    int64\n",
      " 2   feathers    101 non-null    int64\n",
      " 3   eggs        101 non-null    int64\n",
      " 4   milk        101 non-null    int64\n",
      " 5   airborne    101 non-null    int64\n",
      " 6   aquatic     101 non-null    int64\n",
      " 7   predator    101 non-null    int64\n",
      " 8   toothed     101 non-null    int64\n",
      " 9   backbone    101 non-null    int64\n",
      " 10  breathes    101 non-null    int64\n",
      " 11  venomous    101 non-null    int64\n",
      " 12  fins        101 non-null    int64\n",
      " 13  legs        101 non-null    int64\n",
      " 14  tail        101 non-null    int64\n",
      " 15  domestic    101 non-null    int64\n",
      " 16  catsize     101 non-null    int64\n",
      " 17  type        101 non-null    int64\n",
      "dtypes: int64(18)\n",
      "memory usage: 14.3 KB\n"
     ]
    }
   ],
   "source": [
    "zoo.info()"
   ]
  },
  {
   "cell_type": "code",
   "execution_count": 151,
   "id": "e2467349",
   "metadata": {},
   "outputs": [
    {
     "data": {
      "text/plain": [
       "4.134653465346538"
      ]
     },
     "execution_count": 151,
     "metadata": {},
     "output_type": "execute_result"
    }
   ],
   "source": [
    "#we will calculate variance for columns\n",
    "\n",
    "zoo[\"legs\"].var()          #std dev = 2.03"
   ]
  },
  {
   "cell_type": "code",
   "execution_count": 152,
   "id": "3e59c251",
   "metadata": {},
   "outputs": [
    {
     "data": {
      "text/plain": [
       "0.24693069306930682"
      ]
     },
     "execution_count": 152,
     "metadata": {},
     "output_type": "execute_result"
    }
   ],
   "source": [
    "zoo[\"hair\"].var()"
   ]
  },
  {
   "cell_type": "code",
   "execution_count": 153,
   "id": "4f8ffee3",
   "metadata": {},
   "outputs": [
    {
     "data": {
      "text/plain": [
       "0.1603960396039605"
      ]
     },
     "execution_count": 153,
     "metadata": {},
     "output_type": "execute_result"
    }
   ],
   "source": [
    "zoo[\"feathers\"].var()"
   ]
  },
  {
   "cell_type": "code",
   "execution_count": 154,
   "id": "23bf0cc1",
   "metadata": {},
   "outputs": [
    {
     "data": {
      "text/plain": [
       "0.24534653465346504"
      ]
     },
     "execution_count": 154,
     "metadata": {},
     "output_type": "execute_result"
    }
   ],
   "source": [
    "zoo[\"eggs\"].var()"
   ]
  },
  {
   "cell_type": "code",
   "execution_count": 155,
   "id": "30369b32",
   "metadata": {},
   "outputs": [
    {
     "data": {
      "text/plain": [
       "0.2435643564356434"
      ]
     },
     "execution_count": 155,
     "metadata": {},
     "output_type": "execute_result"
    }
   ],
   "source": [
    "zoo[\"milk\"].var()"
   ]
  },
  {
   "cell_type": "code",
   "execution_count": 156,
   "id": "1f8463b5",
   "metadata": {},
   "outputs": [
    {
     "data": {
      "text/plain": [
       "0.18297029702970313"
      ]
     },
     "execution_count": 156,
     "metadata": {},
     "output_type": "execute_result"
    }
   ],
   "source": [
    "zoo[\"airborne\"].var()"
   ]
  },
  {
   "cell_type": "code",
   "execution_count": 157,
   "id": "252d6920",
   "metadata": {},
   "outputs": [
    {
     "data": {
      "text/plain": [
       "animalname    839.193069\n",
       "hair            0.246931\n",
       "feathers        0.160396\n",
       "eggs            0.245347\n",
       "milk            0.243564\n",
       "airborne        0.182970\n",
       "aquatic         0.231683\n",
       "predator        0.249505\n",
       "toothed         0.241584\n",
       "backbone        0.147921\n",
       "breathes        0.166337\n",
       "venomous        0.073663\n",
       "fins            0.141386\n",
       "legs            4.134653\n",
       "tail            0.193069\n",
       "domestic        0.113267\n",
       "catsize         0.248317\n",
       "type            4.421386\n",
       "dtype: float64"
      ]
     },
     "execution_count": 157,
     "metadata": {},
     "output_type": "execute_result"
    }
   ],
   "source": [
    "#Creating variance dataframe\n",
    "variance = zoo.var()\n",
    "variance"
   ]
  },
  {
   "cell_type": "code",
   "execution_count": 158,
   "id": "526cd515",
   "metadata": {},
   "outputs": [],
   "source": [
    "#As we look into the data,\n",
    "#The minimum of all the vaiables except legs is'0' and the maximum value of the variables except legs is 1.\n",
    "##Legs minimum value is zero and maximum value is 8\n",
    "##The whole data is discrete and categorical in nature with Binary data.\n",
    "#The output variable is type.\n",
    "##Animal name has discrete, categorical, non numeric data. So, we convert them into dummy variables."
   ]
  },
  {
   "cell_type": "code",
   "execution_count": 159,
   "id": "0e7d7048",
   "metadata": {},
   "outputs": [
    {
     "data": {
      "text/plain": [
       "{'whiskers': [<matplotlib.lines.Line2D at 0x1ef1018f4c0>,\n",
       "  <matplotlib.lines.Line2D at 0x1ef1018f820>],\n",
       " 'caps': [<matplotlib.lines.Line2D at 0x1ef1018fb80>,\n",
       "  <matplotlib.lines.Line2D at 0x1ef1018ff10>],\n",
       " 'boxes': [<matplotlib.lines.Line2D at 0x1ef1018f1c0>],\n",
       " 'medians': [<matplotlib.lines.Line2D at 0x1ef101982b0>],\n",
       " 'fliers': [<matplotlib.lines.Line2D at 0x1ef10198610>],\n",
       " 'means': []}"
      ]
     },
     "execution_count": 159,
     "metadata": {},
     "output_type": "execute_result"
    },
    {
     "data": {
      "image/png": "[encoded data removed]",
      "text/plain": [
       "<Figure size 432x288 with 1 Axes>"
      ]
     },
     "metadata": {
      "needs_background": "light"
     },
     "output_type": "display_data"
    }
   ],
   "source": [
    "#visualization\n",
    "\n",
    "#Plotting the boxplot and histogram\n",
    "plt.boxplot(zoo[\"legs\"])"
   ]
  },
  {
   "cell_type": "code",
   "execution_count": 160,
   "id": "dbbe9061",
   "metadata": {},
   "outputs": [],
   "source": [
    "# there is one outlier in 'legs' variable"
   ]
  },
  {
   "cell_type": "code",
   "execution_count": 161,
   "id": "a0c5bd21",
   "metadata": {},
   "outputs": [
    {
     "data": {
      "text/plain": [
       "{'whiskers': [<matplotlib.lines.Line2D at 0x1ef101ec8e0>,\n",
       "  <matplotlib.lines.Line2D at 0x1ef101ecc40>],\n",
       " 'caps': [<matplotlib.lines.Line2D at 0x1ef101ecfa0>,\n",
       "  <matplotlib.lines.Line2D at 0x1ef101f6340>],\n",
       " 'boxes': [<matplotlib.lines.Line2D at 0x1ef101ec5e0>],\n",
       " 'medians': [<matplotlib.lines.Line2D at 0x1ef101f66a0>],\n",
       " 'fliers': [<matplotlib.lines.Line2D at 0x1ef101f6a30>],\n",
       " 'means': []}"
      ]
     },
     "execution_count": 161,
     "metadata": {},
     "output_type": "execute_result"
    },
    {
     "data": {
      "image/png": "[encoded data removed]",
      "text/plain": [
       "<Figure size 432x288 with 1 Axes>"
      ]
     },
     "metadata": {
      "needs_background": "light"
     },
     "output_type": "display_data"
    }
   ],
   "source": [
    "plt.boxplot(zoo[\"type\"])"
   ]
  },
  {
   "cell_type": "code",
   "execution_count": 162,
   "id": "24f20d0d",
   "metadata": {},
   "outputs": [],
   "source": [
    "# AS this is the output variable. As it is discrete,categorical data, analysing is difficult."
   ]
  },
  {
   "cell_type": "code",
   "execution_count": 163,
   "id": "3cdfd7e5",
   "metadata": {},
   "outputs": [
    {
     "data": {
      "text/plain": [
       "(array([23.,  0., 27.,  0.,  0., 38.,  1., 10.,  0.,  2.]),\n",
       " array([0. , 0.8, 1.6, 2.4, 3.2, 4. , 4.8, 5.6, 6.4, 7.2, 8. ]),\n",
       " <BarContainer object of 10 artists>)"
      ]
     },
     "execution_count": 163,
     "metadata": {},
     "output_type": "execute_result"
    },
    {
     "data": {
      "image/png": "[encoded data removed]",
      "text/plain": [
       "<Figure size 432x288 with 1 Axes>"
      ]
     },
     "metadata": {
      "needs_background": "light"
     },
     "output_type": "display_data"
    }
   ],
   "source": [
    "plt.hist(zoo[\"legs\"])"
   ]
  },
  {
   "cell_type": "code",
   "execution_count": 164,
   "id": "1d5e533e",
   "metadata": {},
   "outputs": [],
   "source": [
    "#Creating dummy variables for the animal variable "
   ]
  },
  {
   "cell_type": "code",
   "execution_count": 165,
   "id": "7ecfa2e5",
   "metadata": {},
   "outputs": [],
   "source": [
    "dummy = pd.get_dummies(zoo[\"animalname\"], drop_first = True)"
   ]
  },
  {
   "cell_type": "code",
   "execution_count": 166,
   "id": "042fb97c",
   "metadata": {},
   "outputs": [],
   "source": [
    "zoo = pd.concat([zoo,dummy],axis=1)"
   ]
  },
  {
   "cell_type": "code",
   "execution_count": 167,
   "id": "1e45d76a",
   "metadata": {},
   "outputs": [],
   "source": [
    "zoo = zoo.drop([\"animalname\"],axis=1)"
   ]
  },
  {
   "cell_type": "code",
   "execution_count": 168,
   "id": "4d21d2a0",
   "metadata": {},
   "outputs": [
    {
     "data": {
      "text/plain": [
       "4    38\n",
       "2    27\n",
       "0    23\n",
       "6    10\n",
       "8     2\n",
       "5     1\n",
       "Name: legs, dtype: int64"
      ]
     },
     "execution_count": 168,
     "metadata": {},
     "output_type": "execute_result"
    }
   ],
   "source": [
    "zoo[\"legs\"].value_counts()"
   ]
  },
  {
   "cell_type": "code",
   "execution_count": 169,
   "id": "c69449a1",
   "metadata": {},
   "outputs": [],
   "source": [
    "zoo[\"legs\"],_=pd.factorize(zoo[\"legs\"])"
   ]
  },
  {
   "cell_type": "code",
   "execution_count": 170,
   "id": "c85fec18",
   "metadata": {},
   "outputs": [],
   "source": [
    "labels = zoo.iloc[:,16]"
   ]
  },
  {
   "cell_type": "code",
   "execution_count": 171,
   "id": "22576164",
   "metadata": {},
   "outputs": [],
   "source": [
    "features = zoo.drop([\"type\"],axis=1)"
   ]
  },
  {
   "cell_type": "code",
   "execution_count": 172,
   "id": "5085347e",
   "metadata": {},
   "outputs": [],
   "source": [
    "#Normalizing the equation\n",
    "\n",
    "def norm_func(i):\n",
    "    x=(i-i.min())/(i.max()-i.min())\n",
    "    return(x)"
   ]
  },
  {
   "cell_type": "code",
   "execution_count": 173,
   "id": "bc48fad0",
   "metadata": {},
   "outputs": [],
   "source": [
    "data = norm_func(features)"
   ]
  },
  {
   "cell_type": "code",
   "execution_count": 174,
   "id": "8dd5ed35",
   "metadata": {},
   "outputs": [],
   "source": [
    "#Splitting the data into train and test\n",
    "from sklearn.model_selection import train_test_split\n",
    "x_train,x_test,y_train,y_test = train_test_split(data,labels,test_size =0.2, stratify=labels)"
   ]
  },
  {
   "cell_type": "code",
   "execution_count": 175,
   "id": "5edc5b8a",
   "metadata": {},
   "outputs": [],
   "source": [
    "from sklearn.neighbors import KNeighborsClassifier as KN"
   ]
  },
  {
   "cell_type": "code",
   "execution_count": 176,
   "id": "fd6ef05f",
   "metadata": {},
   "outputs": [
    {
     "data": {
      "text/plain": [
       "KNeighborsClassifier()"
      ]
     },
     "execution_count": 176,
     "metadata": {},
     "output_type": "execute_result"
    }
   ],
   "source": [
    "model1 =KN(n_neighbors=5)\n",
    "model1.fit(x_train,y_train)"
   ]
  },
  {
   "cell_type": "code",
   "execution_count": 177,
   "id": "26a1d7e8",
   "metadata": {},
   "outputs": [
    {
     "data": {
      "text/plain": [
       "0.975"
      ]
     },
     "execution_count": 177,
     "metadata": {},
     "output_type": "execute_result"
    }
   ],
   "source": [
    "#Accuracy on the train data\n",
    "train_acc = np.mean((model1.predict(x_train)==y_train))\n",
    "train_acc"
   ]
  },
  {
   "cell_type": "code",
   "execution_count": 180,
   "id": "11d052f0",
   "metadata": {},
   "outputs": [],
   "source": [
    "# accuracy = 97.5%"
   ]
  },
  {
   "cell_type": "code",
   "execution_count": 181,
   "id": "348fd7a9",
   "metadata": {},
   "outputs": [
    {
     "data": {
      "text/plain": [
       "0.9523809523809523"
      ]
     },
     "execution_count": 181,
     "metadata": {},
     "output_type": "execute_result"
    }
   ],
   "source": [
    "#Accuracy on test data\n",
    "test_acc = np.mean(model1.predict(x_test)==y_test)\n",
    "test_acc"
   ]
  },
  {
   "cell_type": "code",
   "execution_count": 182,
   "id": "0cf938d0",
   "metadata": {},
   "outputs": [],
   "source": [
    "# accuracy = 95%"
   ]
  },
  {
   "cell_type": "code",
   "execution_count": 183,
   "id": "dbe77d71",
   "metadata": {},
   "outputs": [
    {
     "data": {
      "text/plain": [
       "KNeighborsClassifier(n_neighbors=7)"
      ]
     },
     "execution_count": 183,
     "metadata": {},
     "output_type": "execute_result"
    }
   ],
   "source": [
    "#Trying for k=7\n",
    "\n",
    "model2 = KN(n_neighbors=7)\n",
    "model2.fit(x_train,y_train)"
   ]
  },
  {
   "cell_type": "code",
   "execution_count": 184,
   "id": "752e6461",
   "metadata": {},
   "outputs": [
    {
     "data": {
      "text/plain": [
       "0.9125"
      ]
     },
     "execution_count": 184,
     "metadata": {},
     "output_type": "execute_result"
    }
   ],
   "source": [
    "#Accuracy on the train data\n",
    "train2_acc = np.mean((model2.predict(x_train)==y_train))\n",
    "train2_acc"
   ]
  },
  {
   "cell_type": "code",
   "execution_count": 189,
   "id": "94622a95",
   "metadata": {},
   "outputs": [],
   "source": [
    "# accuracy = 91%"
   ]
  },
  {
   "cell_type": "code",
   "execution_count": 190,
   "id": "89517981",
   "metadata": {},
   "outputs": [
    {
     "data": {
      "text/plain": [
       "0.9047619047619048"
      ]
     },
     "execution_count": 190,
     "metadata": {},
     "output_type": "execute_result"
    }
   ],
   "source": [
    "#Accuracy on test data\n",
    "test2_acc = np.mean(model2.predict(x_test)==y_test)\n",
    "test2_acc"
   ]
  },
  {
   "cell_type": "code",
   "execution_count": 191,
   "id": "f2cb9106",
   "metadata": {},
   "outputs": [],
   "source": [
    "# accuracy = 90%"
   ]
  },
  {
   "cell_type": "code",
   "execution_count": 192,
   "id": "c0944063",
   "metadata": {},
   "outputs": [],
   "source": [
    "#Creating an empty list\n",
    "acc=[]"
   ]
  },
  {
   "cell_type": "code",
   "execution_count": 193,
   "id": "aaaa0131",
   "metadata": {},
   "outputs": [],
   "source": [
    "#running KNN algorithm for 7 to 50 nearest neighbours and storing the accuracy values "
   ]
  },
  {
   "cell_type": "code",
   "execution_count": 194,
   "id": "c428bcf7",
   "metadata": {},
   "outputs": [],
   "source": [
    "for i in range(7,50,2):\n",
    "    model2=KN(n_neighbors = i)\n",
    "    model2.fit(x_train,y_train)\n",
    "    train_acc = np.mean(model2.predict(x_train)==y_train)\n",
    "    test_acc = np.mean(model2.predict(x_test)==y_test)\n",
    "    acc.append([train_acc,test_acc])"
   ]
  },
  {
   "cell_type": "code",
   "execution_count": 195,
   "id": "4e5d3c0b",
   "metadata": {},
   "outputs": [],
   "source": [
    "import matplotlib.pyplot as plt"
   ]
  },
  {
   "cell_type": "code",
   "execution_count": 196,
   "id": "a0390422",
   "metadata": {},
   "outputs": [
    {
     "data": {
      "text/plain": [
       "[<matplotlib.lines.Line2D at 0x1ef1129bdc0>]"
      ]
     },
     "execution_count": 196,
     "metadata": {},
     "output_type": "execute_result"
    },
    {
     "data": {
      "image/png": "[encoded data removed]",
      "text/plain": [
       "<Figure size 432x288 with 1 Axes>"
      ]
     },
     "metadata": {
      "needs_background": "light"
     },
     "output_type": "display_data"
    }
   ],
   "source": [
    "#training accuracy plot\n",
    "plt.plot(np.arange(7,50,2),[i[0] for i in acc],\"bo-\")"
   ]
  },
  {
   "cell_type": "code",
   "execution_count": 197,
   "id": "aba5c6b2",
   "metadata": {},
   "outputs": [
    {
     "data": {
      "text/plain": [
       "[<matplotlib.lines.Line2D at 0x1ef0fe2c9a0>]"
      ]
     },
     "execution_count": 197,
     "metadata": {},
     "output_type": "execute_result"
    },
    {
     "data": {
      "image/png": "[encoded data removed]",
      "text/plain": [
       "<Figure size 432x288 with 1 Axes>"
      ]
     },
     "metadata": {
      "needs_background": "light"
     },
     "output_type": "display_data"
    }
   ],
   "source": [
    "#test accuracy plot\n",
    "plt.plot(np.arange(7,50,2),[i[1] for i in acc],\"ro-\")    "
   ]
  },
  {
   "cell_type": "code",
   "execution_count": null,
   "id": "e748df7e",
   "metadata": {},
   "outputs": [],
   "source": []
  }
 ],
 "metadata": {
  "kernelspec": {
   "display_name": "Python 3",
   "language": "python",
   "name": "python3"
  },
  "language_info": {
   "codemirror_mode": {
    "name": "ipython",
    "version": 3
   },
   "file_extension": ".py",
   "mimetype": "text/x-python",
   "name": "python",
   "nbconvert_exporter": "python",
   "pygments_lexer": "ipython3",
   "version": "3.8.8"
  }
 },
 "nbformat": 4,
 "nbformat_minor": 5
}
